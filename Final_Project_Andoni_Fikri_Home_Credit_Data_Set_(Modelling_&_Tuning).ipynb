{
  "nbformat": 4,
  "nbformat_minor": 0,
  "metadata": {
    "colab": {
      "name": "Final Project_Andoni Fikri_Home Credit Data Set (Modelling & Tuning).ipynb",
      "provenance": [],
      "collapsed_sections": [],
      "toc_visible": true,
      "authorship_tag": "ABX9TyNR4wFeAII+yWr6Nui+7+bh",
      "include_colab_link": true
    },
    "kernelspec": {
      "name": "python3",
      "display_name": "Python 3"
    },
    "language_info": {
      "name": "python"
    }
  },
  "cells": [
    {
      "cell_type": "markdown",
      "metadata": {
        "id": "view-in-github",
        "colab_type": "text"
      },
      "source": [
        "<a href=\"https://colab.research.google.com/github/AndoniFikri/CreditPrediction/blob/main/Final_Project_Andoni_Fikri_Home_Credit_Data_Set_(Modelling_%26_Tuning).ipynb\" target=\"_parent\"><img src=\"https://colab.research.google.com/assets/colab-badge.svg\" alt=\"Open In Colab\"/></a>"
      ]
    },
    {
      "cell_type": "markdown",
      "source": [
        "# Import Libraries"
      ],
      "metadata": {
        "id": "IYjzSQ30xQpN"
      }
    },
    {
      "cell_type": "code",
      "execution_count": 66,
      "metadata": {
        "id": "gCa_19N9hxDP"
      },
      "outputs": [],
      "source": [
        "import numpy as np\n",
        "import pandas as pd\n",
        "import seaborn as sns\n",
        "import matplotlib.pyplot as plt\n",
        "pd.options.display.max_columns=None\n",
        "pd.options.display.max_rows=None"
      ]
    },
    {
      "cell_type": "markdown",
      "source": [
        "#Import Data Set Model"
      ],
      "metadata": {
        "id": "Sez3q0-vxWq0"
      }
    },
    {
      "cell_type": "code",
      "source": [
        "from google.colab import drive\n",
        "drive.mount('/content/drive')"
      ],
      "metadata": {
        "colab": {
          "base_uri": "https://localhost:8080/"
        },
        "id": "v_aIQsO-xY9i",
        "outputId": "31d107c5-0e12-4d9a-9eb7-206db9ffd7d9"
      },
      "execution_count": 67,
      "outputs": [
        {
          "output_type": "stream",
          "name": "stdout",
          "text": [
            "Drive already mounted at /content/drive; to attempt to forcibly remount, call drive.mount(\"/content/drive\", force_remount=True).\n"
          ]
        }
      ]
    },
    {
      "cell_type": "code",
      "source": [
        "df = pd.read_csv('/content/drive/MyDrive/Data Set/data for model.csv')"
      ],
      "metadata": {
        "id": "O6VCOTpVxqeU"
      },
      "execution_count": 68,
      "outputs": []
    },
    {
      "cell_type": "code",
      "source": [
        "df.info()"
      ],
      "metadata": {
        "colab": {
          "base_uri": "https://localhost:8080/"
        },
        "id": "JGK1fmbsxv0p",
        "outputId": "8f2a8335-8911-4eb7-b137-85047fa94ad7"
      },
      "execution_count": 69,
      "outputs": [
        {
          "output_type": "stream",
          "name": "stdout",
          "text": [
            "<class 'pandas.core.frame.DataFrame'>\n",
            "RangeIndex: 305541 entries, 0 to 305540\n",
            "Data columns (total 17 columns):\n",
            " #   Column                        Non-Null Count   Dtype  \n",
            "---  ------                        --------------   -----  \n",
            " 0   Unnamed: 0                    305541 non-null  int64  \n",
            " 1   EXT_SOURCE_2                  305541 non-null  float64\n",
            " 2   EXT_SOURCE_3                  305541 non-null  float64\n",
            " 3   DAYS_BIRTH                    305541 non-null  int64  \n",
            " 4   DAYS_ID_PUBLISH               305541 non-null  int64  \n",
            " 5   DAYS_REGISTRATION             305541 non-null  float64\n",
            " 6   AMT_ANNUITY                   305541 non-null  float64\n",
            " 7   DAYS_EMPLOYED                 305541 non-null  int64  \n",
            " 8   AMT_CREDIT                    305541 non-null  float64\n",
            " 9   DAYS_LAST_PHONE_CHANGE        305541 non-null  float64\n",
            " 10  REGION_POPULATION_RELATIVE    305541 non-null  float64\n",
            " 11  AMT_INCOME_TOTAL              305541 non-null  float64\n",
            " 12  EXT_SOURCE_1                  305541 non-null  float64\n",
            " 13  HOUR_APPR_PROCESS_START       305541 non-null  int64  \n",
            " 14  AMT_REQ_CREDIT_BUREAU_YEAR    305541 non-null  float64\n",
            " 15  YEARS_BEGINEXPLUATATION_MEDI  305541 non-null  float64\n",
            " 16  TARGET                        305541 non-null  int64  \n",
            "dtypes: float64(11), int64(6)\n",
            "memory usage: 39.6 MB\n"
          ]
        }
      ]
    },
    {
      "cell_type": "code",
      "source": [
        "df.head()"
      ],
      "metadata": {
        "colab": {
          "base_uri": "https://localhost:8080/",
          "height": 288
        },
        "id": "9VjeXs7Lxyiv",
        "outputId": "fa698749-56be-44f6-8b0c-a792f643599d"
      },
      "execution_count": 70,
      "outputs": [
        {
          "output_type": "execute_result",
          "data": {
            "text/plain": [
              "   Unnamed: 0  EXT_SOURCE_2  EXT_SOURCE_3  DAYS_BIRTH  DAYS_ID_PUBLISH  \\\n",
              "0           0      0.262949      0.139376       -9461            -2120   \n",
              "1           1      0.622246      0.535276      -16765             -291   \n",
              "2           2      0.555912      0.729567      -19046            -2531   \n",
              "3           3      0.650442      0.535276      -19005            -2437   \n",
              "4           4      0.322738      0.535276      -19932            -3458   \n",
              "\n",
              "   DAYS_REGISTRATION  AMT_ANNUITY  DAYS_EMPLOYED  AMT_CREDIT  \\\n",
              "0            -3648.0      24700.5           -637    406597.5   \n",
              "1            -1186.0      35698.5          -1188   1293502.5   \n",
              "2            -4260.0       6750.0           -225    135000.0   \n",
              "3            -9833.0      29686.5          -3039    312682.5   \n",
              "4            -4311.0      21865.5          -3038    513000.0   \n",
              "\n",
              "   DAYS_LAST_PHONE_CHANGE  REGION_POPULATION_RELATIVE  AMT_INCOME_TOTAL  \\\n",
              "0                 -1134.0                    0.018801          202500.0   \n",
              "1                  -828.0                    0.003541          270000.0   \n",
              "2                  -815.0                    0.010032           67500.0   \n",
              "3                  -617.0                    0.008019          135000.0   \n",
              "4                 -1106.0                    0.028663          121500.0   \n",
              "\n",
              "   EXT_SOURCE_1  HOUR_APPR_PROCESS_START  AMT_REQ_CREDIT_BUREAU_YEAR  \\\n",
              "0      0.083037                       10                         1.0   \n",
              "1      0.311267                       11                         0.0   \n",
              "2      0.505777                        9                         0.0   \n",
              "3      0.505777                       17                         0.0   \n",
              "4      0.505777                       11                         0.0   \n",
              "\n",
              "   YEARS_BEGINEXPLUATATION_MEDI  TARGET  \n",
              "0                        0.9722       1  \n",
              "1                        0.9851       0  \n",
              "2                        0.9816       0  \n",
              "3                        0.9816       0  \n",
              "4                        0.9816       0  "
            ],
            "text/html": [
              "\n",
              "  <div id=\"df-371147b2-ed1c-4a26-9af0-4c030a7a5174\">\n",
              "    <div class=\"colab-df-container\">\n",
              "      <div>\n",
              "<style scoped>\n",
              "    .dataframe tbody tr th:only-of-type {\n",
              "        vertical-align: middle;\n",
              "    }\n",
              "\n",
              "    .dataframe tbody tr th {\n",
              "        vertical-align: top;\n",
              "    }\n",
              "\n",
              "    .dataframe thead th {\n",
              "        text-align: right;\n",
              "    }\n",
              "</style>\n",
              "<table border=\"1\" class=\"dataframe\">\n",
              "  <thead>\n",
              "    <tr style=\"text-align: right;\">\n",
              "      <th></th>\n",
              "      <th>Unnamed: 0</th>\n",
              "      <th>EXT_SOURCE_2</th>\n",
              "      <th>EXT_SOURCE_3</th>\n",
              "      <th>DAYS_BIRTH</th>\n",
              "      <th>DAYS_ID_PUBLISH</th>\n",
              "      <th>DAYS_REGISTRATION</th>\n",
              "      <th>AMT_ANNUITY</th>\n",
              "      <th>DAYS_EMPLOYED</th>\n",
              "      <th>AMT_CREDIT</th>\n",
              "      <th>DAYS_LAST_PHONE_CHANGE</th>\n",
              "      <th>REGION_POPULATION_RELATIVE</th>\n",
              "      <th>AMT_INCOME_TOTAL</th>\n",
              "      <th>EXT_SOURCE_1</th>\n",
              "      <th>HOUR_APPR_PROCESS_START</th>\n",
              "      <th>AMT_REQ_CREDIT_BUREAU_YEAR</th>\n",
              "      <th>YEARS_BEGINEXPLUATATION_MEDI</th>\n",
              "      <th>TARGET</th>\n",
              "    </tr>\n",
              "  </thead>\n",
              "  <tbody>\n",
              "    <tr>\n",
              "      <th>0</th>\n",
              "      <td>0</td>\n",
              "      <td>0.262949</td>\n",
              "      <td>0.139376</td>\n",
              "      <td>-9461</td>\n",
              "      <td>-2120</td>\n",
              "      <td>-3648.0</td>\n",
              "      <td>24700.5</td>\n",
              "      <td>-637</td>\n",
              "      <td>406597.5</td>\n",
              "      <td>-1134.0</td>\n",
              "      <td>0.018801</td>\n",
              "      <td>202500.0</td>\n",
              "      <td>0.083037</td>\n",
              "      <td>10</td>\n",
              "      <td>1.0</td>\n",
              "      <td>0.9722</td>\n",
              "      <td>1</td>\n",
              "    </tr>\n",
              "    <tr>\n",
              "      <th>1</th>\n",
              "      <td>1</td>\n",
              "      <td>0.622246</td>\n",
              "      <td>0.535276</td>\n",
              "      <td>-16765</td>\n",
              "      <td>-291</td>\n",
              "      <td>-1186.0</td>\n",
              "      <td>35698.5</td>\n",
              "      <td>-1188</td>\n",
              "      <td>1293502.5</td>\n",
              "      <td>-828.0</td>\n",
              "      <td>0.003541</td>\n",
              "      <td>270000.0</td>\n",
              "      <td>0.311267</td>\n",
              "      <td>11</td>\n",
              "      <td>0.0</td>\n",
              "      <td>0.9851</td>\n",
              "      <td>0</td>\n",
              "    </tr>\n",
              "    <tr>\n",
              "      <th>2</th>\n",
              "      <td>2</td>\n",
              "      <td>0.555912</td>\n",
              "      <td>0.729567</td>\n",
              "      <td>-19046</td>\n",
              "      <td>-2531</td>\n",
              "      <td>-4260.0</td>\n",
              "      <td>6750.0</td>\n",
              "      <td>-225</td>\n",
              "      <td>135000.0</td>\n",
              "      <td>-815.0</td>\n",
              "      <td>0.010032</td>\n",
              "      <td>67500.0</td>\n",
              "      <td>0.505777</td>\n",
              "      <td>9</td>\n",
              "      <td>0.0</td>\n",
              "      <td>0.9816</td>\n",
              "      <td>0</td>\n",
              "    </tr>\n",
              "    <tr>\n",
              "      <th>3</th>\n",
              "      <td>3</td>\n",
              "      <td>0.650442</td>\n",
              "      <td>0.535276</td>\n",
              "      <td>-19005</td>\n",
              "      <td>-2437</td>\n",
              "      <td>-9833.0</td>\n",
              "      <td>29686.5</td>\n",
              "      <td>-3039</td>\n",
              "      <td>312682.5</td>\n",
              "      <td>-617.0</td>\n",
              "      <td>0.008019</td>\n",
              "      <td>135000.0</td>\n",
              "      <td>0.505777</td>\n",
              "      <td>17</td>\n",
              "      <td>0.0</td>\n",
              "      <td>0.9816</td>\n",
              "      <td>0</td>\n",
              "    </tr>\n",
              "    <tr>\n",
              "      <th>4</th>\n",
              "      <td>4</td>\n",
              "      <td>0.322738</td>\n",
              "      <td>0.535276</td>\n",
              "      <td>-19932</td>\n",
              "      <td>-3458</td>\n",
              "      <td>-4311.0</td>\n",
              "      <td>21865.5</td>\n",
              "      <td>-3038</td>\n",
              "      <td>513000.0</td>\n",
              "      <td>-1106.0</td>\n",
              "      <td>0.028663</td>\n",
              "      <td>121500.0</td>\n",
              "      <td>0.505777</td>\n",
              "      <td>11</td>\n",
              "      <td>0.0</td>\n",
              "      <td>0.9816</td>\n",
              "      <td>0</td>\n",
              "    </tr>\n",
              "  </tbody>\n",
              "</table>\n",
              "</div>\n",
              "      <button class=\"colab-df-convert\" onclick=\"convertToInteractive('df-371147b2-ed1c-4a26-9af0-4c030a7a5174')\"\n",
              "              title=\"Convert this dataframe to an interactive table.\"\n",
              "              style=\"display:none;\">\n",
              "        \n",
              "  <svg xmlns=\"http://www.w3.org/2000/svg\" height=\"24px\"viewBox=\"0 0 24 24\"\n",
              "       width=\"24px\">\n",
              "    <path d=\"M0 0h24v24H0V0z\" fill=\"none\"/>\n",
              "    <path d=\"M18.56 5.44l.94 2.06.94-2.06 2.06-.94-2.06-.94-.94-2.06-.94 2.06-2.06.94zm-11 1L8.5 8.5l.94-2.06 2.06-.94-2.06-.94L8.5 2.5l-.94 2.06-2.06.94zm10 10l.94 2.06.94-2.06 2.06-.94-2.06-.94-.94-2.06-.94 2.06-2.06.94z\"/><path d=\"M17.41 7.96l-1.37-1.37c-.4-.4-.92-.59-1.43-.59-.52 0-1.04.2-1.43.59L10.3 9.45l-7.72 7.72c-.78.78-.78 2.05 0 2.83L4 21.41c.39.39.9.59 1.41.59.51 0 1.02-.2 1.41-.59l7.78-7.78 2.81-2.81c.8-.78.8-2.07 0-2.86zM5.41 20L4 18.59l7.72-7.72 1.47 1.35L5.41 20z\"/>\n",
              "  </svg>\n",
              "      </button>\n",
              "      \n",
              "  <style>\n",
              "    .colab-df-container {\n",
              "      display:flex;\n",
              "      flex-wrap:wrap;\n",
              "      gap: 12px;\n",
              "    }\n",
              "\n",
              "    .colab-df-convert {\n",
              "      background-color: #E8F0FE;\n",
              "      border: none;\n",
              "      border-radius: 50%;\n",
              "      cursor: pointer;\n",
              "      display: none;\n",
              "      fill: #1967D2;\n",
              "      height: 32px;\n",
              "      padding: 0 0 0 0;\n",
              "      width: 32px;\n",
              "    }\n",
              "\n",
              "    .colab-df-convert:hover {\n",
              "      background-color: #E2EBFA;\n",
              "      box-shadow: 0px 1px 2px rgba(60, 64, 67, 0.3), 0px 1px 3px 1px rgba(60, 64, 67, 0.15);\n",
              "      fill: #174EA6;\n",
              "    }\n",
              "\n",
              "    [theme=dark] .colab-df-convert {\n",
              "      background-color: #3B4455;\n",
              "      fill: #D2E3FC;\n",
              "    }\n",
              "\n",
              "    [theme=dark] .colab-df-convert:hover {\n",
              "      background-color: #434B5C;\n",
              "      box-shadow: 0px 1px 3px 1px rgba(0, 0, 0, 0.15);\n",
              "      filter: drop-shadow(0px 1px 2px rgba(0, 0, 0, 0.3));\n",
              "      fill: #FFFFFF;\n",
              "    }\n",
              "  </style>\n",
              "\n",
              "      <script>\n",
              "        const buttonEl =\n",
              "          document.querySelector('#df-371147b2-ed1c-4a26-9af0-4c030a7a5174 button.colab-df-convert');\n",
              "        buttonEl.style.display =\n",
              "          google.colab.kernel.accessAllowed ? 'block' : 'none';\n",
              "\n",
              "        async function convertToInteractive(key) {\n",
              "          const element = document.querySelector('#df-371147b2-ed1c-4a26-9af0-4c030a7a5174');\n",
              "          const dataTable =\n",
              "            await google.colab.kernel.invokeFunction('convertToInteractive',\n",
              "                                                     [key], {});\n",
              "          if (!dataTable) return;\n",
              "\n",
              "          const docLinkHtml = 'Like what you see? Visit the ' +\n",
              "            '<a target=\"_blank\" href=https://colab.research.google.com/notebooks/data_table.ipynb>data table notebook</a>'\n",
              "            + ' to learn more about interactive tables.';\n",
              "          element.innerHTML = '';\n",
              "          dataTable['output_type'] = 'display_data';\n",
              "          await google.colab.output.renderOutput(dataTable, element);\n",
              "          const docLink = document.createElement('div');\n",
              "          docLink.innerHTML = docLinkHtml;\n",
              "          element.appendChild(docLink);\n",
              "        }\n",
              "      </script>\n",
              "    </div>\n",
              "  </div>\n",
              "  "
            ]
          },
          "metadata": {},
          "execution_count": 70
        }
      ]
    },
    {
      "cell_type": "code",
      "source": [
        "df = df.drop('Unnamed: 0', axis=1)"
      ],
      "metadata": {
        "id": "QJYHVM5u1VG-"
      },
      "execution_count": 71,
      "outputs": []
    },
    {
      "cell_type": "markdown",
      "source": [
        "#Outlier Detection and Handling"
      ],
      "metadata": {
        "id": "xN-6xNVSx2-5"
      }
    },
    {
      "cell_type": "markdown",
      "source": [
        "##Outlier Detection"
      ],
      "metadata": {
        "id": "8W1fNVjAyVlV"
      }
    },
    {
      "cell_type": "code",
      "source": [
        "#For Pure Numerical Values \n",
        "\n",
        "plt.figure(figsize=(20,10))\n",
        "\n",
        "# plotting\n",
        "features = df.columns.tolist()\n",
        "for i in range(0, len(features)):\n",
        "    plt.subplot(1, len(features), i+1)\n",
        "    sns.boxplot(y=df[features[i]], color='red')\n",
        "    plt.tight_layout()"
      ],
      "metadata": {
        "colab": {
          "base_uri": "https://localhost:8080/",
          "height": 729
        },
        "id": "Lfdc5baSx9KI",
        "outputId": "7b290d8e-e677-4547-f270-45065ab34ee7"
      },
      "execution_count": 72,
      "outputs": [
        {
          "output_type": "display_data",
          "data": {
            "text/plain": [
              "<Figure size 1440x720 with 16 Axes>"
            ],
            "image/png": "[encoded data removed]"
          },
          "metadata": {
            "needs_background": "light"
          }
        }
      ]
    },
    {
      "cell_type": "markdown",
      "source": [
        "Conclusion :      \n",
        "\n",
        "`AMT_INCOME_TOTAL`, `EXT_SOURCE_1`, and `YEARS_BEGINEXPLUATATION_MODE` column has an extreme outlier. Thus, to create more robust model we should handle the outlier."
      ],
      "metadata": {
        "id": "ES1SqJ_0y5jd"
      }
    },
    {
      "cell_type": "markdown",
      "source": [
        "##Outlier Handling"
      ],
      "metadata": {
        "id": "WsOrm3E9zcBD"
      }
    },
    {
      "cell_type": "code",
      "source": [
        "column = df.columns.tolist()\n",
        "feature_col = column[0:15]\n",
        "feature_col"
      ],
      "metadata": {
        "colab": {
          "base_uri": "https://localhost:8080/"
        },
        "id": "Z_8xopFZ08SX",
        "outputId": "3956925c-bcb4-4be1-9d4f-327466e506ad"
      },
      "execution_count": 73,
      "outputs": [
        {
          "output_type": "execute_result",
          "data": {
            "text/plain": [
              "['EXT_SOURCE_2',\n",
              " 'EXT_SOURCE_3',\n",
              " 'DAYS_BIRTH',\n",
              " 'DAYS_ID_PUBLISH',\n",
              " 'DAYS_REGISTRATION',\n",
              " 'AMT_ANNUITY',\n",
              " 'DAYS_EMPLOYED',\n",
              " 'AMT_CREDIT',\n",
              " 'DAYS_LAST_PHONE_CHANGE',\n",
              " 'REGION_POPULATION_RELATIVE',\n",
              " 'AMT_INCOME_TOTAL',\n",
              " 'EXT_SOURCE_1',\n",
              " 'HOUR_APPR_PROCESS_START',\n",
              " 'AMT_REQ_CREDIT_BUREAU_YEAR',\n",
              " 'YEARS_BEGINEXPLUATATION_MEDI']"
            ]
          },
          "metadata": {},
          "execution_count": 73
        }
      ]
    },
    {
      "cell_type": "code",
      "source": [
        "#Handling Outlier\n",
        "for col in feature_col: \n",
        "  q3 = df[col].quantile(0.75)\n",
        "  q1 = df[col].quantile(0.25)\n",
        "  IQR = q3 - q1 \n",
        "  lower_limit = q1 - (IQR * 1.5)\n",
        "  upper_limit = q3 + (IQR * 1.5)\n",
        "  df[col] = np.where(df[col]> upper_limit, upper_limit,\n",
        "                        np.where(df[col]< lower_limit, lower_limit,\n",
        "                          df[col]))"
      ],
      "metadata": {
        "id": "AmpIWmzuzUtB"
      },
      "execution_count": 74,
      "outputs": []
    },
    {
      "cell_type": "code",
      "source": [
        "#Recheck for Outlier\n",
        "#For Pure Numerical Values \n",
        "\n",
        "plt.figure(figsize=(20,10))\n",
        "\n",
        "# plotting\n",
        "features = df.columns.tolist()\n",
        "for i in range(0, len(features)):\n",
        "    plt.subplot(1, len(features), i+1)\n",
        "    sns.boxplot(y=df[features[i]], color='blue')\n",
        "    plt.tight_layout()"
      ],
      "metadata": {
        "colab": {
          "base_uri": "https://localhost:8080/",
          "height": 729
        },
        "id": "Pqsr3rek2aQM",
        "outputId": "711c9463-2307-413b-927d-28e6a68a0918"
      },
      "execution_count": 75,
      "outputs": [
        {
          "output_type": "display_data",
          "data": {
            "text/plain": [
              "<Figure size 1440x720 with 16 Axes>"
            ],
            "image/png": "[encoded data removed]"
          },
          "metadata": {
            "needs_background": "light"
          }
        }
      ]
    },
    {
      "cell_type": "code",
      "source": [
        "df.nunique()"
      ],
      "metadata": {
        "colab": {
          "base_uri": "https://localhost:8080/"
        },
        "id": "sqhLyIzb2lS_",
        "outputId": "3d809fe4-78d0-45cf-cdff-a9c35d2e0608"
      },
      "execution_count": 76,
      "outputs": [
        {
          "output_type": "execute_result",
          "data": {
            "text/plain": [
              "EXT_SOURCE_2                    119655\n",
              "EXT_SOURCE_3                       599\n",
              "DAYS_BIRTH                       17460\n",
              "DAYS_ID_PUBLISH                   6167\n",
              "DAYS_REGISTRATION                15103\n",
              "AMT_ANNUITY                      11675\n",
              "DAYS_EMPLOYED                    11766\n",
              "AMT_CREDIT                        4969\n",
              "DAYS_LAST_PHONE_CHANGE            3512\n",
              "REGION_POPULATION_RELATIVE          81\n",
              "AMT_INCOME_TOTAL                  2205\n",
              "EXT_SOURCE_1                         1\n",
              "HOUR_APPR_PROCESS_START             17\n",
              "AMT_REQ_CREDIT_BUREAU_YEAR           9\n",
              "YEARS_BEGINEXPLUATATION_MEDI         6\n",
              "TARGET                               2\n",
              "dtype: int64"
            ]
          },
          "metadata": {},
          "execution_count": 76
        }
      ]
    },
    {
      "cell_type": "code",
      "source": [
        "#Drop EXT_SOURCE_1 because its only having a single value\n",
        "df = df.drop('EXT_SOURCE_1', axis = 1)"
      ],
      "metadata": {
        "id": "5Iod_I2a2qFN"
      },
      "execution_count": 77,
      "outputs": []
    },
    {
      "cell_type": "code",
      "source": [
        "df.shape"
      ],
      "metadata": {
        "colab": {
          "base_uri": "https://localhost:8080/"
        },
        "id": "lXTQbBvG26rG",
        "outputId": "d6031c4a-1eb2-4840-825a-c1786a5dda73"
      },
      "execution_count": 78,
      "outputs": [
        {
          "output_type": "execute_result",
          "data": {
            "text/plain": [
              "(305541, 15)"
            ]
          },
          "metadata": {},
          "execution_count": 78
        }
      ]
    },
    {
      "cell_type": "markdown",
      "source": [
        "#Data Preparation and Modelling"
      ],
      "metadata": {
        "id": "u7bmPe0P25xm"
      }
    },
    {
      "cell_type": "markdown",
      "source": [
        "##Split Feature And Target"
      ],
      "metadata": {
        "id": "wPEmNQut3FvD"
      }
    },
    {
      "cell_type": "code",
      "source": [
        "X = df.drop('TARGET', axis =1)\n",
        "Y = df['TARGET']"
      ],
      "metadata": {
        "id": "EECuwQzQ2_-8"
      },
      "execution_count": 102,
      "outputs": []
    },
    {
      "cell_type": "markdown",
      "source": [
        "##Scaling, Split Train-Test, and SMOTE Imbalanced Data Handling"
      ],
      "metadata": {
        "id": "kU85tJbO3gE4"
      }
    },
    {
      "cell_type": "code",
      "source": [
        "#Over Sampling Using SMOTE\n",
        "from imblearn.over_sampling import SMOTE\n",
        "\n",
        "smote = SMOTE()\n",
        "X_res, y_res = smote.fit_resample(X, Y)"
      ],
      "metadata": {
        "id": "lxDMKz9ARyu0"
      },
      "execution_count": 103,
      "outputs": []
    },
    {
      "cell_type": "code",
      "source": [
        "#Split data \n",
        "X_train, X_test, y_train, y_test = train_test_split(X_res, y_res, test_size=0.2, random_state=42)"
      ],
      "metadata": {
        "id": "gKNdEqBBUOhS"
      },
      "execution_count": 104,
      "outputs": []
    },
    {
      "cell_type": "code",
      "source": [
        "from sklearn.preprocessing import MinMaxScaler \n",
        "mms = MinMaxScaler()\n",
        "X_train_scaled = mms.fit_transform(X_train)\n",
        "X_test_scaled = mms.transform(X_test)"
      ],
      "metadata": {
        "id": "UazpSFPT3fmC"
      },
      "execution_count": 105,
      "outputs": []
    },
    {
      "cell_type": "markdown",
      "source": [
        "##Multiple Modelling and Select Most Robust Model"
      ],
      "metadata": {
        "id": "1crx2iM35IKC"
      }
    },
    {
      "cell_type": "code",
      "source": [
        "from sklearn.ensemble import RandomForestClassifier\n",
        "from sklearn.tree import DecisionTreeClassifier \n",
        "from sklearn.neighbors import KNeighborsClassifier\n",
        "from sklearn.linear_model import LogisticRegression\n",
        "from sklearn.metrics import roc_curve, roc_auc_score\n",
        "\n",
        "model_alg = [RandomForestClassifier(), \n",
        "             DecisionTreeClassifier(),\n",
        "             KNeighborsClassifier(), \n",
        "             LogisticRegression() \n",
        "             ]\n"
      ],
      "metadata": {
        "id": "0MUyk6qK4K_K"
      },
      "execution_count": 106,
      "outputs": []
    },
    {
      "cell_type": "code",
      "source": [
        "df_mod_eval = pd.DataFrame(columns = ['Algorithm','AUC Score'])\n",
        "df_mod_eval"
      ],
      "metadata": {
        "colab": {
          "base_uri": "https://localhost:8080/",
          "height": 49
        },
        "id": "dUTLWrtq_uoV",
        "outputId": "be89b59b-0e2d-4647-d91e-f670c39d8824"
      },
      "execution_count": 107,
      "outputs": [
        {
          "output_type": "execute_result",
          "data": {
            "text/plain": [
              "Empty DataFrame\n",
              "Columns: [Algorithm, AUC Score]\n",
              "Index: []"
            ],
            "text/html": [
              "\n",
              "  <div id=\"df-0dbcef39-1dae-467e-a651-9de91d8993ce\">\n",
              "    <div class=\"colab-df-container\">\n",
              "      <div>\n",
              "<style scoped>\n",
              "    .dataframe tbody tr th:only-of-type {\n",
              "        vertical-align: middle;\n",
              "    }\n",
              "\n",
              "    .dataframe tbody tr th {\n",
              "        vertical-align: top;\n",
              "    }\n",
              "\n",
              "    .dataframe thead th {\n",
              "        text-align: right;\n",
              "    }\n",
              "</style>\n",
              "<table border=\"1\" class=\"dataframe\">\n",
              "  <thead>\n",
              "    <tr style=\"text-align: right;\">\n",
              "      <th></th>\n",
              "      <th>Algorithm</th>\n",
              "      <th>AUC Score</th>\n",
              "    </tr>\n",
              "  </thead>\n",
              "  <tbody>\n",
              "  </tbody>\n",
              "</table>\n",
              "</div>\n",
              "      <button class=\"colab-df-convert\" onclick=\"convertToInteractive('df-0dbcef39-1dae-467e-a651-9de91d8993ce')\"\n",
              "              title=\"Convert this dataframe to an interactive table.\"\n",
              "              style=\"display:none;\">\n",
              "        \n",
              "  <svg xmlns=\"http://www.w3.org/2000/svg\" height=\"24px\"viewBox=\"0 0 24 24\"\n",
              "       width=\"24px\">\n",
              "    <path d=\"M0 0h24v24H0V0z\" fill=\"none\"/>\n",
              "    <path d=\"M18.56 5.44l.94 2.06.94-2.06 2.06-.94-2.06-.94-.94-2.06-.94 2.06-2.06.94zm-11 1L8.5 8.5l.94-2.06 2.06-.94-2.06-.94L8.5 2.5l-.94 2.06-2.06.94zm10 10l.94 2.06.94-2.06 2.06-.94-2.06-.94-.94-2.06-.94 2.06-2.06.94z\"/><path d=\"M17.41 7.96l-1.37-1.37c-.4-.4-.92-.59-1.43-.59-.52 0-1.04.2-1.43.59L10.3 9.45l-7.72 7.72c-.78.78-.78 2.05 0 2.83L4 21.41c.39.39.9.59 1.41.59.51 0 1.02-.2 1.41-.59l7.78-7.78 2.81-2.81c.8-.78.8-2.07 0-2.86zM5.41 20L4 18.59l7.72-7.72 1.47 1.35L5.41 20z\"/>\n",
              "  </svg>\n",
              "      </button>\n",
              "      \n",
              "  <style>\n",
              "    .colab-df-container {\n",
              "      display:flex;\n",
              "      flex-wrap:wrap;\n",
              "      gap: 12px;\n",
              "    }\n",
              "\n",
              "    .colab-df-convert {\n",
              "      background-color: #E8F0FE;\n",
              "      border: none;\n",
              "      border-radius: 50%;\n",
              "      cursor: pointer;\n",
              "      display: none;\n",
              "      fill: #1967D2;\n",
              "      height: 32px;\n",
              "      padding: 0 0 0 0;\n",
              "      width: 32px;\n",
              "    }\n",
              "\n",
              "    .colab-df-convert:hover {\n",
              "      background-color: #E2EBFA;\n",
              "      box-shadow: 0px 1px 2px rgba(60, 64, 67, 0.3), 0px 1px 3px 1px rgba(60, 64, 67, 0.15);\n",
              "      fill: #174EA6;\n",
              "    }\n",
              "\n",
              "    [theme=dark] .colab-df-convert {\n",
              "      background-color: #3B4455;\n",
              "      fill: #D2E3FC;\n",
              "    }\n",
              "\n",
              "    [theme=dark] .colab-df-convert:hover {\n",
              "      background-color: #434B5C;\n",
              "      box-shadow: 0px 1px 3px 1px rgba(0, 0, 0, 0.15);\n",
              "      filter: drop-shadow(0px 1px 2px rgba(0, 0, 0, 0.3));\n",
              "      fill: #FFFFFF;\n",
              "    }\n",
              "  </style>\n",
              "\n",
              "      <script>\n",
              "        const buttonEl =\n",
              "          document.querySelector('#df-0dbcef39-1dae-467e-a651-9de91d8993ce button.colab-df-convert');\n",
              "        buttonEl.style.display =\n",
              "          google.colab.kernel.accessAllowed ? 'block' : 'none';\n",
              "\n",
              "        async function convertToInteractive(key) {\n",
              "          const element = document.querySelector('#df-0dbcef39-1dae-467e-a651-9de91d8993ce');\n",
              "          const dataTable =\n",
              "            await google.colab.kernel.invokeFunction('convertToInteractive',\n",
              "                                                     [key], {});\n",
              "          if (!dataTable) return;\n",
              "\n",
              "          const docLinkHtml = 'Like what you see? Visit the ' +\n",
              "            '<a target=\"_blank\" href=https://colab.research.google.com/notebooks/data_table.ipynb>data table notebook</a>'\n",
              "            + ' to learn more about interactive tables.';\n",
              "          element.innerHTML = '';\n",
              "          dataTable['output_type'] = 'display_data';\n",
              "          await google.colab.output.renderOutput(dataTable, element);\n",
              "          const docLink = document.createElement('div');\n",
              "          docLink.innerHTML = docLinkHtml;\n",
              "          element.appendChild(docLink);\n",
              "        }\n",
              "      </script>\n",
              "    </div>\n",
              "  </div>\n",
              "  "
            ]
          },
          "metadata": {},
          "execution_count": 107
        }
      ]
    },
    {
      "cell_type": "code",
      "source": [
        "for model in model_alg : \n",
        "  model.fit(X_train_scaled, y_train)\n",
        "  algorithm = str(type(model)).split('.')[-1][:-2]\n",
        "  y_pred_proba = model.predict_proba(X_test_scaled)[::,1]\n",
        "  auc = roc_auc_score(y_test, y_pred_proba)\n",
        "  df_mod_eval = df_mod_eval.append({'Algorithm' : algorithm, \n",
        "                                    'AUC Score' : auc},ignore_index=True)\n",
        "  "
      ],
      "metadata": {
        "id": "KvTYmq9g_fk8"
      },
      "execution_count": 108,
      "outputs": []
    },
    {
      "cell_type": "code",
      "source": [
        "df_mod_eval"
      ],
      "metadata": {
        "colab": {
          "base_uri": "https://localhost:8080/",
          "height": 175
        },
        "id": "8Oo0BOsxDKL5",
        "outputId": "1043e583-03ec-469b-8309-55c042b3b24b"
      },
      "execution_count": 109,
      "outputs": [
        {
          "output_type": "execute_result",
          "data": {
            "text/plain": [
              "                Algorithm  AUC Score\n",
              "0  RandomForestClassifier   0.980015\n",
              "1  DecisionTreeClassifier   0.891672\n",
              "2    KNeighborsClassifier   0.937076\n",
              "3      LogisticRegression   0.737595"
            ],
            "text/html": [
              "\n",
              "  <div id=\"df-c7740b55-948d-4aeb-9f4c-eb97e709bcf9\">\n",
              "    <div class=\"colab-df-container\">\n",
              "      <div>\n",
              "<style scoped>\n",
              "    .dataframe tbody tr th:only-of-type {\n",
              "        vertical-align: middle;\n",
              "    }\n",
              "\n",
              "    .dataframe tbody tr th {\n",
              "        vertical-align: top;\n",
              "    }\n",
              "\n",
              "    .dataframe thead th {\n",
              "        text-align: right;\n",
              "    }\n",
              "</style>\n",
              "<table border=\"1\" class=\"dataframe\">\n",
              "  <thead>\n",
              "    <tr style=\"text-align: right;\">\n",
              "      <th></th>\n",
              "      <th>Algorithm</th>\n",
              "      <th>AUC Score</th>\n",
              "    </tr>\n",
              "  </thead>\n",
              "  <tbody>\n",
              "    <tr>\n",
              "      <th>0</th>\n",
              "      <td>RandomForestClassifier</td>\n",
              "      <td>0.980015</td>\n",
              "    </tr>\n",
              "    <tr>\n",
              "      <th>1</th>\n",
              "      <td>DecisionTreeClassifier</td>\n",
              "      <td>0.891672</td>\n",
              "    </tr>\n",
              "    <tr>\n",
              "      <th>2</th>\n",
              "      <td>KNeighborsClassifier</td>\n",
              "      <td>0.937076</td>\n",
              "    </tr>\n",
              "    <tr>\n",
              "      <th>3</th>\n",
              "      <td>LogisticRegression</td>\n",
              "      <td>0.737595</td>\n",
              "    </tr>\n",
              "  </tbody>\n",
              "</table>\n",
              "</div>\n",
              "      <button class=\"colab-df-convert\" onclick=\"convertToInteractive('df-c7740b55-948d-4aeb-9f4c-eb97e709bcf9')\"\n",
              "              title=\"Convert this dataframe to an interactive table.\"\n",
              "              style=\"display:none;\">\n",
              "        \n",
              "  <svg xmlns=\"http://www.w3.org/2000/svg\" height=\"24px\"viewBox=\"0 0 24 24\"\n",
              "       width=\"24px\">\n",
              "    <path d=\"M0 0h24v24H0V0z\" fill=\"none\"/>\n",
              "    <path d=\"M18.56 5.44l.94 2.06.94-2.06 2.06-.94-2.06-.94-.94-2.06-.94 2.06-2.06.94zm-11 1L8.5 8.5l.94-2.06 2.06-.94-2.06-.94L8.5 2.5l-.94 2.06-2.06.94zm10 10l.94 2.06.94-2.06 2.06-.94-2.06-.94-.94-2.06-.94 2.06-2.06.94z\"/><path d=\"M17.41 7.96l-1.37-1.37c-.4-.4-.92-.59-1.43-.59-.52 0-1.04.2-1.43.59L10.3 9.45l-7.72 7.72c-.78.78-.78 2.05 0 2.83L4 21.41c.39.39.9.59 1.41.59.51 0 1.02-.2 1.41-.59l7.78-7.78 2.81-2.81c.8-.78.8-2.07 0-2.86zM5.41 20L4 18.59l7.72-7.72 1.47 1.35L5.41 20z\"/>\n",
              "  </svg>\n",
              "      </button>\n",
              "      \n",
              "  <style>\n",
              "    .colab-df-container {\n",
              "      display:flex;\n",
              "      flex-wrap:wrap;\n",
              "      gap: 12px;\n",
              "    }\n",
              "\n",
              "    .colab-df-convert {\n",
              "      background-color: #E8F0FE;\n",
              "      border: none;\n",
              "      border-radius: 50%;\n",
              "      cursor: pointer;\n",
              "      display: none;\n",
              "      fill: #1967D2;\n",
              "      height: 32px;\n",
              "      padding: 0 0 0 0;\n",
              "      width: 32px;\n",
              "    }\n",
              "\n",
              "    .colab-df-convert:hover {\n",
              "      background-color: #E2EBFA;\n",
              "      box-shadow: 0px 1px 2px rgba(60, 64, 67, 0.3), 0px 1px 3px 1px rgba(60, 64, 67, 0.15);\n",
              "      fill: #174EA6;\n",
              "    }\n",
              "\n",
              "    [theme=dark] .colab-df-convert {\n",
              "      background-color: #3B4455;\n",
              "      fill: #D2E3FC;\n",
              "    }\n",
              "\n",
              "    [theme=dark] .colab-df-convert:hover {\n",
              "      background-color: #434B5C;\n",
              "      box-shadow: 0px 1px 3px 1px rgba(0, 0, 0, 0.15);\n",
              "      filter: drop-shadow(0px 1px 2px rgba(0, 0, 0, 0.3));\n",
              "      fill: #FFFFFF;\n",
              "    }\n",
              "  </style>\n",
              "\n",
              "      <script>\n",
              "        const buttonEl =\n",
              "          document.querySelector('#df-c7740b55-948d-4aeb-9f4c-eb97e709bcf9 button.colab-df-convert');\n",
              "        buttonEl.style.display =\n",
              "          google.colab.kernel.accessAllowed ? 'block' : 'none';\n",
              "\n",
              "        async function convertToInteractive(key) {\n",
              "          const element = document.querySelector('#df-c7740b55-948d-4aeb-9f4c-eb97e709bcf9');\n",
              "          const dataTable =\n",
              "            await google.colab.kernel.invokeFunction('convertToInteractive',\n",
              "                                                     [key], {});\n",
              "          if (!dataTable) return;\n",
              "\n",
              "          const docLinkHtml = 'Like what you see? Visit the ' +\n",
              "            '<a target=\"_blank\" href=https://colab.research.google.com/notebooks/data_table.ipynb>data table notebook</a>'\n",
              "            + ' to learn more about interactive tables.';\n",
              "          element.innerHTML = '';\n",
              "          dataTable['output_type'] = 'display_data';\n",
              "          await google.colab.output.renderOutput(dataTable, element);\n",
              "          const docLink = document.createElement('div');\n",
              "          docLink.innerHTML = docLinkHtml;\n",
              "          element.appendChild(docLink);\n",
              "        }\n",
              "      </script>\n",
              "    </div>\n",
              "  </div>\n",
              "  "
            ]
          },
          "metadata": {},
          "execution_count": 109
        }
      ]
    },
    {
      "cell_type": "markdown",
      "source": [
        "Conclusion : The best model to predict credit risk is Random Forrest Classifier."
      ],
      "metadata": {
        "id": "lYN_iNvTDSH-"
      }
    },
    {
      "cell_type": "code",
      "source": [
        "rfc = RandomForestClassifier()\n",
        "rfc.fit(X_train_scaled, y_train)"
      ],
      "metadata": {
        "colab": {
          "base_uri": "https://localhost:8080/"
        },
        "id": "7mOtNvWn95y3",
        "outputId": "779938fe-1bd8-405f-bcdd-c69ab1259f03"
      },
      "execution_count": 120,
      "outputs": [
        {
          "output_type": "execute_result",
          "data": {
            "text/plain": [
              "RandomForestClassifier()"
            ]
          },
          "metadata": {},
          "execution_count": 120
        }
      ]
    },
    {
      "cell_type": "markdown",
      "source": [
        "##Model Evaluation"
      ],
      "metadata": {
        "id": "NdnaE1XcH0S-"
      }
    },
    {
      "cell_type": "markdown",
      "source": [
        "###Classification Report"
      ],
      "metadata": {
        "id": "zkqchHh_H5rd"
      }
    },
    {
      "cell_type": "code",
      "source": [
        "from sklearn.metrics import classification_report\n",
        "y_pred = rfc.predict(X_test_scaled)\n",
        "print(classification_report(y_test, y_pred))"
      ],
      "metadata": {
        "colab": {
          "base_uri": "https://localhost:8080/"
        },
        "id": "uzsrZBPPHorZ",
        "outputId": "df8d1553-0678-4d8e-81d9-392c44e5182f"
      },
      "execution_count": 121,
      "outputs": [
        {
          "output_type": "stream",
          "name": "stdout",
          "text": [
            "              precision    recall  f1-score   support\n",
            "\n",
            "           0       0.91      0.99      0.94     56001\n",
            "           1       0.98      0.90      0.94     56329\n",
            "\n",
            "    accuracy                           0.94    112330\n",
            "   macro avg       0.95      0.94      0.94    112330\n",
            "weighted avg       0.95      0.94      0.94    112330\n",
            "\n"
          ]
        }
      ]
    },
    {
      "cell_type": "markdown",
      "source": [
        "### AUC Plot of Best Estimator"
      ],
      "metadata": {
        "id": "G6bPVBWIH_wD"
      }
    },
    {
      "cell_type": "code",
      "source": [
        "y_pred_proba = rfc.predict_proba(X_test_scaled)[:][:,1]\n",
        "\n",
        "df_actual_predicted = pd.concat([pd.DataFrame(np.array(y_test), columns=['y_actual']), pd.DataFrame(y_pred_proba, columns=['y_pred_proba'])], axis=1)\n",
        "df_actual_predicted.index = y_test.index"
      ],
      "metadata": {
        "id": "AQZC5JfuH-wq"
      },
      "execution_count": 122,
      "outputs": []
    },
    {
      "cell_type": "code",
      "source": [
        "from sklearn.metrics import roc_curve, roc_auc_score\n",
        "fpr, tpr, tr = roc_curve(df_actual_predicted['y_actual'], df_actual_predicted['y_pred_proba'])\n",
        "auc = roc_auc_score(df_actual_predicted['y_actual'], df_actual_predicted['y_pred_proba'])\n",
        "\n",
        "plt.plot(fpr, tpr, label='AUC = %0.4f' %auc)\n",
        "plt.plot(fpr, fpr, linestyle = '--', color='k')\n",
        "plt.xlabel('False Positive Rate')\n",
        "plt.ylabel('True Positive Rate')\n",
        "plt.title('ROC Curve')\n",
        "plt.legend()"
      ],
      "metadata": {
        "colab": {
          "base_uri": "https://localhost:8080/",
          "height": 312
        },
        "id": "MGR-VP2_IRl5",
        "outputId": "a1824fdf-abe9-473e-819b-ba49ad0419a0"
      },
      "execution_count": 123,
      "outputs": [
        {
          "output_type": "execute_result",
          "data": {
            "text/plain": [
              "<matplotlib.legend.Legend at 0x7f2e8b864ad0>"
            ]
          },
          "metadata": {},
          "execution_count": 123
        },
        {
          "output_type": "display_data",
          "data": {
            "text/plain": [
              "<Figure size 432x288 with 1 Axes>"
            ],
            "image/png": "[encoded data removed]"
          },
          "metadata": {
            "needs_background": "light"
          }
        }
      ]
    },
    {
      "cell_type": "markdown",
      "source": [
        "###KS Score of Best Estimator"
      ],
      "metadata": {
        "id": "deKls-BpKgDP"
      }
    },
    {
      "cell_type": "code",
      "source": [
        "df_actual_predicted = df_actual_predicted.sort_values('y_pred_proba')\n",
        "df_actual_predicted = df_actual_predicted.reset_index()\n",
        "\n",
        "df_actual_predicted['Cumulative N Population'] = df_actual_predicted.index + 1\n",
        "df_actual_predicted['Cumulative N Bad'] = df_actual_predicted['y_actual'].cumsum()\n",
        "df_actual_predicted['Cumulative N Good'] = df_actual_predicted['Cumulative N Population'] - df_actual_predicted['Cumulative N Bad']\n",
        "df_actual_predicted['Cumulative Perc Population'] = df_actual_predicted['Cumulative N Population'] / df_actual_predicted.shape[0]\n",
        "df_actual_predicted['Cumulative Perc Bad'] = df_actual_predicted['Cumulative N Bad'] / df_actual_predicted['y_actual'].sum()\n",
        "df_actual_predicted['Cumulative Perc Good'] = df_actual_predicted['Cumulative N Good'] / (df_actual_predicted.shape[0] - df_actual_predicted['y_actual'].sum())"
      ],
      "metadata": {
        "id": "9VnR8iOmKi7_"
      },
      "execution_count": 124,
      "outputs": []
    },
    {
      "cell_type": "code",
      "source": [
        "KS = max(df_actual_predicted['Cumulative Perc Good'] - df_actual_predicted['Cumulative Perc Bad'])\n",
        "\n",
        "plt.plot(df_actual_predicted['y_pred_proba'], df_actual_predicted['Cumulative Perc Bad'], color='r')\n",
        "plt.plot(df_actual_predicted['y_pred_proba'], df_actual_predicted['Cumulative Perc Good'], color='b')\n",
        "plt.xlabel('Estimated Probability for Being Bad')\n",
        "plt.ylabel('Cumulative %')\n",
        "plt.title('Kolmogorov-Smirnov:  %0.4f' %KS)"
      ],
      "metadata": {
        "colab": {
          "base_uri": "https://localhost:8080/",
          "height": 312
        },
        "id": "wu8RMySpKkWd",
        "outputId": "639c221f-238d-4b5a-d5ee-67e5add58d84"
      },
      "execution_count": 125,
      "outputs": [
        {
          "output_type": "execute_result",
          "data": {
            "text/plain": [
              "Text(0.5, 1.0, 'Kolmogorov-Smirnov:  0.8866')"
            ]
          },
          "metadata": {},
          "execution_count": 125
        },
        {
          "output_type": "display_data",
          "data": {
            "text/plain": [
              "<Figure size 432x288 with 1 Axes>"
            ],
            "image/png": "[encoded data removed]"
          },
          "metadata": {
            "needs_background": "light"
          }
        }
      ]
    },
    {
      "cell_type": "markdown",
      "source": [
        "### Confusion Matrix\n"
      ],
      "metadata": {
        "id": "aTmCRhAWIbp-"
      }
    },
    {
      "cell_type": "code",
      "source": [
        "from sklearn.metrics import confusion_matrix, ConfusionMatrixDisplay\n",
        "\n",
        "fig, ax = plt.subplots(figsize=(10,7))\n",
        "target_pred = rfc.predict(X_test_scaled)\n",
        "\n",
        "cm = confusion_matrix(y_test, target_pred, labels=rfc.classes_)\n",
        "disp = ConfusionMatrixDisplay(confusion_matrix=cm,\n",
        "                             display_labels=rfc.classes_)\n",
        "disp.plot(ax=ax)\n",
        "plt.show()"
      ],
      "metadata": {
        "colab": {
          "base_uri": "https://localhost:8080/",
          "height": 442
        },
        "id": "imHzjjepIfHp",
        "outputId": "2ce60d8b-9b83-4f8e-ade5-aa3cc4c280bf"
      },
      "execution_count": 126,
      "outputs": [
        {
          "output_type": "display_data",
          "data": {
            "text/plain": [
              "<Figure size 720x504 with 2 Axes>"
            ],
            "image/png": "[encoded data removed]"
          },
          "metadata": {
            "needs_background": "light"
          }
        }
      ]
    }
  ]
}